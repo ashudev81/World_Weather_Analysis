{
 "cells": [
  {
   "cell_type": "markdown",
   "metadata": {},
   "source": [
    "# Deliverable 3. Create a Travel Itinerary Map.\n",
    "----\n",
    "1. Import the vacation CSV file. \n",
    "2. From the map above with pick 4 cities that are in close proximity (on the same continent) that the customer would travel to and create a directions layer map.\n",
    "3. For the \"travel_mode\" use either \"DRIVING\", \"BICYCLING\", or \"WALKING\".\n",
    "4. Take a screenshot of the route and save it. \n",
    "5. Then create a marker layer for the four cities. Each city will should have a pop-up marker that contains\n",
    "    - The hotel name\n",
    "    - The city\n",
    "    - The country\n",
    "    - The current weather description and the maximum temperature\n",
    "---"
   ]
  },
  {
   "cell_type": "markdown",
   "metadata": {},
   "source": [
    "## Make sure the initial dependencies and the Google API key are imported."
   ]
  },
  {
   "cell_type": "code",
   "execution_count": 1,
   "metadata": {},
   "outputs": [],
   "source": [
    "# Dependencies and Setup\n",
    "import pandas as pd\n",
    "import requests\n",
    "import gmaps\n",
    "\n",
    "# Import API key\n",
    "from config import g_key"
   ]
  },
  {
   "cell_type": "code",
   "execution_count": 2,
   "metadata": {},
   "outputs": [],
   "source": [
    "# Configure gmaps\n",
    "gmaps.configure(api_key=g_key)"
   ]
  },
  {
   "cell_type": "markdown",
   "metadata": {},
   "source": [
    "## From your `Vacation_Search` folder from Deliverable 2, import the `WeatherPy_vacation.csv` file as a DataFrame named `vacation_df`"
   ]
  },
  {
   "cell_type": "code",
   "execution_count": 3,
   "metadata": {},
   "outputs": [
    {
     "data": {
      "text/html": [
       "<div>\n",
       "<style scoped>\n",
       "    .dataframe tbody tr th:only-of-type {\n",
       "        vertical-align: middle;\n",
       "    }\n",
       "\n",
       "    .dataframe tbody tr th {\n",
       "        vertical-align: top;\n",
       "    }\n",
       "\n",
       "    .dataframe thead th {\n",
       "        text-align: right;\n",
       "    }\n",
       "</style>\n",
       "<table border=\"1\" class=\"dataframe\">\n",
       "  <thead>\n",
       "    <tr style=\"text-align: right;\">\n",
       "      <th></th>\n",
       "      <th>City_ID</th>\n",
       "      <th>City</th>\n",
       "      <th>Country</th>\n",
       "      <th>Max Temp</th>\n",
       "      <th>Current Description</th>\n",
       "      <th>Lat</th>\n",
       "      <th>Lng</th>\n",
       "      <th>Hotel Name</th>\n",
       "    </tr>\n",
       "  </thead>\n",
       "  <tbody>\n",
       "    <tr>\n",
       "      <th>0</th>\n",
       "      <td>2</td>\n",
       "      <td>Tabou</td>\n",
       "      <td>CI</td>\n",
       "      <td>76.69</td>\n",
       "      <td>few clouds</td>\n",
       "      <td>4.4230</td>\n",
       "      <td>-7.3528</td>\n",
       "      <td>hotêl doufoulougou</td>\n",
       "    </tr>\n",
       "    <tr>\n",
       "      <th>1</th>\n",
       "      <td>23</td>\n",
       "      <td>Mogadishu</td>\n",
       "      <td>SO</td>\n",
       "      <td>79.32</td>\n",
       "      <td>broken clouds</td>\n",
       "      <td>2.0371</td>\n",
       "      <td>45.3438</td>\n",
       "      <td>Hotel Juba</td>\n",
       "    </tr>\n",
       "    <tr>\n",
       "      <th>2</th>\n",
       "      <td>38</td>\n",
       "      <td>Vaini</td>\n",
       "      <td>TO</td>\n",
       "      <td>78.03</td>\n",
       "      <td>clear sky</td>\n",
       "      <td>-21.2000</td>\n",
       "      <td>-175.2000</td>\n",
       "      <td>Keleti Beach Resort</td>\n",
       "    </tr>\n",
       "    <tr>\n",
       "      <th>3</th>\n",
       "      <td>39</td>\n",
       "      <td>Pontianak</td>\n",
       "      <td>ID</td>\n",
       "      <td>84.18</td>\n",
       "      <td>broken clouds</td>\n",
       "      <td>-0.0333</td>\n",
       "      <td>109.3333</td>\n",
       "      <td>Aston Pontianak Hotel &amp; Convention Center</td>\n",
       "    </tr>\n",
       "    <tr>\n",
       "      <th>4</th>\n",
       "      <td>41</td>\n",
       "      <td>Kavaratti</td>\n",
       "      <td>IN</td>\n",
       "      <td>82.04</td>\n",
       "      <td>broken clouds</td>\n",
       "      <td>10.5669</td>\n",
       "      <td>72.6420</td>\n",
       "      <td>Green leaf</td>\n",
       "    </tr>\n",
       "    <tr>\n",
       "      <th>...</th>\n",
       "      <td>...</td>\n",
       "      <td>...</td>\n",
       "      <td>...</td>\n",
       "      <td>...</td>\n",
       "      <td>...</td>\n",
       "      <td>...</td>\n",
       "      <td>...</td>\n",
       "      <td>...</td>\n",
       "    </tr>\n",
       "    <tr>\n",
       "      <th>156</th>\n",
       "      <td>655</td>\n",
       "      <td>Weligama</td>\n",
       "      <td>LK</td>\n",
       "      <td>83.07</td>\n",
       "      <td>broken clouds</td>\n",
       "      <td>5.9667</td>\n",
       "      <td>80.4167</td>\n",
       "      <td>Weligama Bay Resort</td>\n",
       "    </tr>\n",
       "    <tr>\n",
       "      <th>157</th>\n",
       "      <td>658</td>\n",
       "      <td>San Juan Nepomuceno</td>\n",
       "      <td>CO</td>\n",
       "      <td>75.69</td>\n",
       "      <td>overcast clouds</td>\n",
       "      <td>9.9516</td>\n",
       "      <td>-75.0820</td>\n",
       "      <td>HOTEL ALCAZAR DE LUCAS</td>\n",
       "    </tr>\n",
       "    <tr>\n",
       "      <th>158</th>\n",
       "      <td>665</td>\n",
       "      <td>Cap Malheureux</td>\n",
       "      <td>MU</td>\n",
       "      <td>77.47</td>\n",
       "      <td>scattered clouds</td>\n",
       "      <td>-19.9842</td>\n",
       "      <td>57.6142</td>\n",
       "      <td>Pereybere Hotel &amp; Spa</td>\n",
       "    </tr>\n",
       "    <tr>\n",
       "      <th>159</th>\n",
       "      <td>669</td>\n",
       "      <td>Catamarca</td>\n",
       "      <td>AR</td>\n",
       "      <td>85.06</td>\n",
       "      <td>scattered clouds</td>\n",
       "      <td>-28.4696</td>\n",
       "      <td>-65.7852</td>\n",
       "      <td>Amerian Catamarca Park Hotel</td>\n",
       "    </tr>\n",
       "    <tr>\n",
       "      <th>160</th>\n",
       "      <td>677</td>\n",
       "      <td>Alofi</td>\n",
       "      <td>NU</td>\n",
       "      <td>80.49</td>\n",
       "      <td>overcast clouds</td>\n",
       "      <td>-19.0595</td>\n",
       "      <td>-169.9187</td>\n",
       "      <td>Taloa Heights</td>\n",
       "    </tr>\n",
       "  </tbody>\n",
       "</table>\n",
       "<p>161 rows × 8 columns</p>\n",
       "</div>"
      ],
      "text/plain": [
       "     City_ID                 City Country  Max Temp Current Description  \\\n",
       "0          2                Tabou      CI     76.69          few clouds   \n",
       "1         23            Mogadishu      SO     79.32       broken clouds   \n",
       "2         38                Vaini      TO     78.03           clear sky   \n",
       "3         39            Pontianak      ID     84.18       broken clouds   \n",
       "4         41            Kavaratti      IN     82.04       broken clouds   \n",
       "..       ...                  ...     ...       ...                 ...   \n",
       "156      655             Weligama      LK     83.07       broken clouds   \n",
       "157      658  San Juan Nepomuceno      CO     75.69     overcast clouds   \n",
       "158      665       Cap Malheureux      MU     77.47    scattered clouds   \n",
       "159      669            Catamarca      AR     85.06    scattered clouds   \n",
       "160      677                Alofi      NU     80.49     overcast clouds   \n",
       "\n",
       "         Lat       Lng                                 Hotel Name  \n",
       "0     4.4230   -7.3528                         hotêl doufoulougou  \n",
       "1     2.0371   45.3438                                 Hotel Juba  \n",
       "2   -21.2000 -175.2000                        Keleti Beach Resort  \n",
       "3    -0.0333  109.3333  Aston Pontianak Hotel & Convention Center  \n",
       "4    10.5669   72.6420                                 Green leaf  \n",
       "..       ...       ...                                        ...  \n",
       "156   5.9667   80.4167                        Weligama Bay Resort  \n",
       "157   9.9516  -75.0820                     HOTEL ALCAZAR DE LUCAS  \n",
       "158 -19.9842   57.6142                      Pereybere Hotel & Spa  \n",
       "159 -28.4696  -65.7852               Amerian Catamarca Park Hotel  \n",
       "160 -19.0595 -169.9187                              Taloa Heights  \n",
       "\n",
       "[161 rows x 8 columns]"
      ]
     },
     "execution_count": 3,
     "metadata": {},
     "output_type": "execute_result"
    }
   ],
   "source": [
    "# Read the WeatherPy_vacation.csv into a DataFrame\n",
    "vacation_df = pd.read_csv('../Vacation_Search/WeatherPy_vacation.csv')\n",
    "\n",
    "# Display sample data\n",
    "# YOUR CODE HERE\n",
    "vacation_df"
   ]
  },
  {
   "cell_type": "markdown",
   "metadata": {},
   "source": [
    "**Note:** If the resulting DataFrame is empty, uncomment the following code to load sample data into the `clean_hotel_df`."
   ]
  },
  {
   "cell_type": "code",
   "execution_count": 4,
   "metadata": {},
   "outputs": [],
   "source": [
    "# In case of an empty DataFrame, load the sample data provided\n",
    "# clean_hotel_df = pd.read_csv(\"WeatherPy_vacation-backup.csv\")\n",
    "# clean_hotel_df.head(10)"
   ]
  },
  {
   "cell_type": "markdown",
   "metadata": {
    "tags": []
   },
   "source": [
    "## In this step, you will set-up the pop-up markers. Review the code to create a marker layer map of the vacation search results. This code is the same as in Deliverable 2."
   ]
  },
  {
   "cell_type": "code",
   "execution_count": 5,
   "metadata": {},
   "outputs": [],
   "source": [
    "# Review the formatting template\n",
    "info_box_template = \"\"\"\n",
    "<dl>\n",
    "<dt>Hotel Name</dt><dd>{Hotel Name}</dd>\n",
    "<dt>City</dt><dd>{City}</dd>\n",
    "<dt>Country</dt><dd>{Country}</dd>\n",
    "<dt>Current Weather</dt><dd>{Current Description} and {Max Temp} °F</dd>\n",
    "</dl>\n",
    "\"\"\"\n",
    "\n",
    "# Get the data from each row and add it to the formatting template and store the data in a list\n",
    "hotel_info = [info_box_template.format(**row) for index, row in vacation_df.iterrows()]\n",
    "\n",
    "# Get the latitude and longitude from each row and store in a new DataFrame.\n",
    "locations = vacation_df[[\"Lat\", \"Lng\"]]"
   ]
  },
  {
   "cell_type": "code",
   "execution_count": 6,
   "metadata": {},
   "outputs": [
    {
     "data": {
      "application/vnd.jupyter.widget-view+json": {
       "model_id": "79e291532ab34703867ecd2cfa8420ed",
       "version_major": 2,
       "version_minor": 0
      },
      "text/plain": [
       "Figure(layout=FigureLayout(height='420px'))"
      ]
     },
     "metadata": {},
     "output_type": "display_data"
    }
   ],
   "source": [
    "# Add a marker layer for each city to the map.\n",
    "marker_layer = gmaps.marker_layer(locations, info_box_content=hotel_info)\n",
    "fig = gmaps.figure()\n",
    "fig.add_layer(marker_layer)\n",
    "\n",
    "# Display the figure\n",
    "fig"
   ]
  },
  {
   "cell_type": "markdown",
   "metadata": {},
   "source": [
    "## From the vacation search map, *choose four cities* that a customer might want to visit. They should be close together and in the same country."
   ]
  },
  {
   "cell_type": "code",
   "execution_count": 9,
   "metadata": {},
   "outputs": [
    {
     "data": {
      "text/html": [
       "<div>\n",
       "<style scoped>\n",
       "    .dataframe tbody tr th:only-of-type {\n",
       "        vertical-align: middle;\n",
       "    }\n",
       "\n",
       "    .dataframe tbody tr th {\n",
       "        vertical-align: top;\n",
       "    }\n",
       "\n",
       "    .dataframe thead th {\n",
       "        text-align: right;\n",
       "    }\n",
       "</style>\n",
       "<table border=\"1\" class=\"dataframe\">\n",
       "  <thead>\n",
       "    <tr style=\"text-align: right;\">\n",
       "      <th></th>\n",
       "      <th>City_ID</th>\n",
       "      <th>City</th>\n",
       "      <th>Country</th>\n",
       "      <th>Max Temp</th>\n",
       "      <th>Current Description</th>\n",
       "      <th>Lat</th>\n",
       "      <th>Lng</th>\n",
       "      <th>Hotel Name</th>\n",
       "    </tr>\n",
       "  </thead>\n",
       "  <tbody>\n",
       "    <tr>\n",
       "      <th>4</th>\n",
       "      <td>41</td>\n",
       "      <td>Kavaratti</td>\n",
       "      <td>IN</td>\n",
       "      <td>82.04</td>\n",
       "      <td>broken clouds</td>\n",
       "      <td>10.5669</td>\n",
       "      <td>72.6420</td>\n",
       "      <td>Green leaf</td>\n",
       "    </tr>\n",
       "    <tr>\n",
       "      <th>40</th>\n",
       "      <td>210</td>\n",
       "      <td>Baghmara</td>\n",
       "      <td>IN</td>\n",
       "      <td>76.77</td>\n",
       "      <td>clear sky</td>\n",
       "      <td>23.7950</td>\n",
       "      <td>86.2085</td>\n",
       "      <td>Shankar tea shop</td>\n",
       "    </tr>\n",
       "    <tr>\n",
       "      <th>65</th>\n",
       "      <td>306</td>\n",
       "      <td>Puri</td>\n",
       "      <td>IN</td>\n",
       "      <td>79.32</td>\n",
       "      <td>clear sky</td>\n",
       "      <td>19.8000</td>\n",
       "      <td>85.8500</td>\n",
       "      <td>OYO 1577 Hotel Shree Hari Grand</td>\n",
       "    </tr>\n",
       "    <tr>\n",
       "      <th>75</th>\n",
       "      <td>372</td>\n",
       "      <td>Tura</td>\n",
       "      <td>IN</td>\n",
       "      <td>75.33</td>\n",
       "      <td>clear sky</td>\n",
       "      <td>25.5198</td>\n",
       "      <td>90.2201</td>\n",
       "      <td>Hotel RIKMAN Continental</td>\n",
       "    </tr>\n",
       "    <tr>\n",
       "      <th>90</th>\n",
       "      <td>409</td>\n",
       "      <td>Khed</td>\n",
       "      <td>IN</td>\n",
       "      <td>82.04</td>\n",
       "      <td>clear sky</td>\n",
       "      <td>17.7167</td>\n",
       "      <td>73.3833</td>\n",
       "      <td>Swagat Lodge</td>\n",
       "    </tr>\n",
       "    <tr>\n",
       "      <th>93</th>\n",
       "      <td>422</td>\n",
       "      <td>Port Blair</td>\n",
       "      <td>IN</td>\n",
       "      <td>81.32</td>\n",
       "      <td>overcast clouds</td>\n",
       "      <td>11.6667</td>\n",
       "      <td>92.7500</td>\n",
       "      <td>Welcomhotel By ITC Hotels, Bay Island, Port Blair</td>\n",
       "    </tr>\n",
       "    <tr>\n",
       "      <th>94</th>\n",
       "      <td>424</td>\n",
       "      <td>Tezu</td>\n",
       "      <td>IN</td>\n",
       "      <td>75.27</td>\n",
       "      <td>clear sky</td>\n",
       "      <td>27.9167</td>\n",
       "      <td>96.1667</td>\n",
       "      <td>Circuit House</td>\n",
       "    </tr>\n",
       "    <tr>\n",
       "      <th>126</th>\n",
       "      <td>547</td>\n",
       "      <td>Mormugao</td>\n",
       "      <td>IN</td>\n",
       "      <td>79.47</td>\n",
       "      <td>clear sky</td>\n",
       "      <td>15.4000</td>\n",
       "      <td>73.8000</td>\n",
       "      <td>Coconut Creek Resort</td>\n",
       "    </tr>\n",
       "  </tbody>\n",
       "</table>\n",
       "</div>"
      ],
      "text/plain": [
       "     City_ID        City Country  Max Temp Current Description      Lat  \\\n",
       "4         41   Kavaratti      IN     82.04       broken clouds  10.5669   \n",
       "40       210    Baghmara      IN     76.77           clear sky  23.7950   \n",
       "65       306        Puri      IN     79.32           clear sky  19.8000   \n",
       "75       372        Tura      IN     75.33           clear sky  25.5198   \n",
       "90       409        Khed      IN     82.04           clear sky  17.7167   \n",
       "93       422  Port Blair      IN     81.32     overcast clouds  11.6667   \n",
       "94       424        Tezu      IN     75.27           clear sky  27.9167   \n",
       "126      547    Mormugao      IN     79.47           clear sky  15.4000   \n",
       "\n",
       "         Lng                                         Hotel Name  \n",
       "4    72.6420                                         Green leaf  \n",
       "40   86.2085                                   Shankar tea shop  \n",
       "65   85.8500                    OYO 1577 Hotel Shree Hari Grand  \n",
       "75   90.2201                           Hotel RIKMAN Continental  \n",
       "90   73.3833                                       Swagat Lodge  \n",
       "93   92.7500  Welcomhotel By ITC Hotels, Bay Island, Port Blair  \n",
       "94   96.1667                                      Circuit House  \n",
       "126  73.8000                               Coconut Creek Resort  "
      ]
     },
     "execution_count": 9,
     "metadata": {},
     "output_type": "execute_result"
    }
   ],
   "source": [
    "vacation_start = vacation_df.loc[(vacation_df['Country']=='IN')]\n",
    "vacation_start"
   ]
  },
  {
   "cell_type": "code",
   "execution_count": 118,
   "metadata": {},
   "outputs": [],
   "source": [
    "# Create DataFrames for each city by filtering the 'vacation_df' using the loc method. \n",
    "# The starting and ending city should be the same city.\n",
    "vacation_start = vacation_df.loc[(vacation_df['Country']=='IN') & (vacation_df['City']== 'Baghmara')]\n",
    "vacation_end = vacation_df.loc[(vacation_df['Country']=='IN') & (vacation_df['City']== 'Baghmara')]\n",
    "vacation_stop1 = vacation_df.loc[(vacation_df['Country']=='IN') & (vacation_df['City']== 'Puri')]\n",
    "vacation_stop2 = vacation_df.loc[(vacation_df['Country']=='IN') & (vacation_df['City']== 'Mormugao')]\n",
    "vacation_stop3 = vacation_df.loc[(vacation_df['Country']=='IN') & (vacation_df['City']== 'Khed')]"
   ]
  },
  {
   "cell_type": "markdown",
   "metadata": {},
   "source": [
    "## Use the `to_numpy()` function and list indexing to write code to retrieve the latitude-longitude pairs as tuples from each city DataFrame."
   ]
  },
  {
   "cell_type": "code",
   "execution_count": 149,
   "metadata": {},
   "outputs": [],
   "source": [
    "# Get the latitude-longitude pairs as tuples from each city DataFrame using the to_numpy function and list indexing.\n",
    "start = vacation_start[[\"Lat\",\"Lng\"]]\n",
    "start = list(start.itertuples(index=False, name= None))\n",
    "start = start[0]\n",
    "\n",
    "end = vacation_end[[\"Lat\",\"Lng\"]]\n",
    "end = list(end.itertuples(index=False, name= None))\n",
    "end = end[0]\n",
    "\n",
    "stop1 = vacation_stop1[[\"Lat\",\"Lng\"]]\n",
    "stop1 = list(stop1.itertuples(index=False, name= None))\n",
    "stop1 = stop1[0]\n",
    "\n",
    "stop2 = vacation_stop2[[\"Lat\",\"Lng\"]]\n",
    "stop2 = list(stop2.itertuples(index=False, name= None))\n",
    "stop2 = stop2[0]\n",
    "\n",
    "stop3 = vacation_stop3[[\"Lat\",\"Lng\"]]\n",
    "stop3 = list(stop3.itertuples(index=False, name= None))\n",
    "stop3 = stop3[0]\n"
   ]
  },
  {
   "cell_type": "markdown",
   "metadata": {},
   "source": [
    "## Use the [gmaps documentation](https://jupyter-gmaps.readthedocs.io/en/latest/tutorial.html#directions-layer) to create a directions layer map using the variables from the previous step. Where the starting and ending city are the same city, the `waypoints` are the three other cities, and the `travel_mode` is either `\"DRIVING\"`, `\"BICYCLING\"`, or `\"WALKING\"`."
   ]
  },
  {
   "cell_type": "code",
   "execution_count": 155,
   "metadata": {
    "tags": []
   },
   "outputs": [
    {
     "data": {
      "application/vnd.jupyter.widget-view+json": {
       "model_id": "5dbc40f0b33445969fe7c40e7b59dfef",
       "version_major": 2,
       "version_minor": 0
      },
      "text/plain": [
       "Figure(layout=FigureLayout(height='420px'))"
      ]
     },
     "metadata": {},
     "output_type": "display_data"
    }
   ],
   "source": [
    "# Define a new figure object\n",
    "fig = gmaps.figure()\n",
    "\n",
    "\n",
    "# Create a direction layer map using the start and end latitude-longitude pairs, and stop1, stop2, and stop3 as the waypoints.\n",
    "# The travel_mode should be \"DRIVING\", \"BICYCLING\", or \"WALKING\".\n",
    "#vacation_itinerary = # YOUR CODE HERE\n",
    "direction = gmaps.directions_layer(start, end, waypoints=[stop1,stop2,stop3], travel_mode='DRIVING')\n",
    "\n",
    "# Add the layer to the map\n",
    "# YOUR CODE HERE\n",
    "fig.add_layer(direction)\n",
    "\n",
    "# Display the map\n",
    "# YOUR CODE HERE\n",
    "fig"
   ]
  },
  {
   "cell_type": "markdown",
   "metadata": {},
   "source": [
    "## Use the provided `concat()` function code snippet to combine the four separate city DataFrames into one DataFrame."
   ]
  },
  {
   "cell_type": "code",
   "execution_count": 156,
   "metadata": {},
   "outputs": [
    {
     "data": {
      "text/html": [
       "<div>\n",
       "<style scoped>\n",
       "    .dataframe tbody tr th:only-of-type {\n",
       "        vertical-align: middle;\n",
       "    }\n",
       "\n",
       "    .dataframe tbody tr th {\n",
       "        vertical-align: top;\n",
       "    }\n",
       "\n",
       "    .dataframe thead th {\n",
       "        text-align: right;\n",
       "    }\n",
       "</style>\n",
       "<table border=\"1\" class=\"dataframe\">\n",
       "  <thead>\n",
       "    <tr style=\"text-align: right;\">\n",
       "      <th></th>\n",
       "      <th>City_ID</th>\n",
       "      <th>City</th>\n",
       "      <th>Country</th>\n",
       "      <th>Max Temp</th>\n",
       "      <th>Current Description</th>\n",
       "      <th>Lat</th>\n",
       "      <th>Lng</th>\n",
       "      <th>Hotel Name</th>\n",
       "    </tr>\n",
       "  </thead>\n",
       "  <tbody>\n",
       "    <tr>\n",
       "      <th>0</th>\n",
       "      <td>210</td>\n",
       "      <td>Baghmara</td>\n",
       "      <td>IN</td>\n",
       "      <td>76.77</td>\n",
       "      <td>clear sky</td>\n",
       "      <td>23.7950</td>\n",
       "      <td>86.2085</td>\n",
       "      <td>Shankar tea shop</td>\n",
       "    </tr>\n",
       "    <tr>\n",
       "      <th>1</th>\n",
       "      <td>306</td>\n",
       "      <td>Puri</td>\n",
       "      <td>IN</td>\n",
       "      <td>79.32</td>\n",
       "      <td>clear sky</td>\n",
       "      <td>19.8000</td>\n",
       "      <td>85.8500</td>\n",
       "      <td>OYO 1577 Hotel Shree Hari Grand</td>\n",
       "    </tr>\n",
       "    <tr>\n",
       "      <th>2</th>\n",
       "      <td>547</td>\n",
       "      <td>Mormugao</td>\n",
       "      <td>IN</td>\n",
       "      <td>79.47</td>\n",
       "      <td>clear sky</td>\n",
       "      <td>15.4000</td>\n",
       "      <td>73.8000</td>\n",
       "      <td>Coconut Creek Resort</td>\n",
       "    </tr>\n",
       "    <tr>\n",
       "      <th>3</th>\n",
       "      <td>409</td>\n",
       "      <td>Khed</td>\n",
       "      <td>IN</td>\n",
       "      <td>82.04</td>\n",
       "      <td>clear sky</td>\n",
       "      <td>17.7167</td>\n",
       "      <td>73.3833</td>\n",
       "      <td>Swagat Lodge</td>\n",
       "    </tr>\n",
       "  </tbody>\n",
       "</table>\n",
       "</div>"
      ],
      "text/plain": [
       "   City_ID      City Country  Max Temp Current Description      Lat      Lng  \\\n",
       "0      210  Baghmara      IN     76.77           clear sky  23.7950  86.2085   \n",
       "1      306      Puri      IN     79.32           clear sky  19.8000  85.8500   \n",
       "2      547  Mormugao      IN     79.47           clear sky  15.4000  73.8000   \n",
       "3      409      Khed      IN     82.04           clear sky  17.7167  73.3833   \n",
       "\n",
       "                        Hotel Name  \n",
       "0                 Shankar tea shop  \n",
       "1  OYO 1577 Hotel Shree Hari Grand  \n",
       "2             Coconut Creek Resort  \n",
       "3                     Swagat Lodge  "
      ]
     },
     "execution_count": 156,
     "metadata": {},
     "output_type": "execute_result"
    }
   ],
   "source": [
    "#  Combine the four city DataFrames into one DataFrame using the concat() function.\n",
    "itinerary_df = pd.concat(\n",
    "    [\n",
    "        vacation_start,\n",
    "        vacation_stop1,\n",
    "        vacation_stop2,\n",
    "        vacation_stop3\n",
    "    ],\n",
    "    ignore_index = True\n",
    ")\n",
    "\n",
    "# Display sample data\n",
    "itinerary_df"
   ]
  },
  {
   "cell_type": "markdown",
   "metadata": {},
   "source": [
    "## Refactor the code from Step 6 to create a new marker layer map of the cities on the travel route."
   ]
  },
  {
   "cell_type": "code",
   "execution_count": 157,
   "metadata": {},
   "outputs": [
    {
     "data": {
      "text/html": [
       "<div>\n",
       "<style scoped>\n",
       "    .dataframe tbody tr th:only-of-type {\n",
       "        vertical-align: middle;\n",
       "    }\n",
       "\n",
       "    .dataframe tbody tr th {\n",
       "        vertical-align: top;\n",
       "    }\n",
       "\n",
       "    .dataframe thead th {\n",
       "        text-align: right;\n",
       "    }\n",
       "</style>\n",
       "<table border=\"1\" class=\"dataframe\">\n",
       "  <thead>\n",
       "    <tr style=\"text-align: right;\">\n",
       "      <th></th>\n",
       "      <th>Lat</th>\n",
       "      <th>Lng</th>\n",
       "    </tr>\n",
       "  </thead>\n",
       "  <tbody>\n",
       "    <tr>\n",
       "      <th>0</th>\n",
       "      <td>23.7950</td>\n",
       "      <td>86.2085</td>\n",
       "    </tr>\n",
       "    <tr>\n",
       "      <th>1</th>\n",
       "      <td>19.8000</td>\n",
       "      <td>85.8500</td>\n",
       "    </tr>\n",
       "    <tr>\n",
       "      <th>2</th>\n",
       "      <td>15.4000</td>\n",
       "      <td>73.8000</td>\n",
       "    </tr>\n",
       "    <tr>\n",
       "      <th>3</th>\n",
       "      <td>17.7167</td>\n",
       "      <td>73.3833</td>\n",
       "    </tr>\n",
       "  </tbody>\n",
       "</table>\n",
       "</div>"
      ],
      "text/plain": [
       "       Lat      Lng\n",
       "0  23.7950  86.2085\n",
       "1  19.8000  85.8500\n",
       "2  15.4000  73.8000\n",
       "3  17.7167  73.3833"
      ]
     },
     "execution_count": 157,
     "metadata": {},
     "output_type": "execute_result"
    }
   ],
   "source": [
    "# Review the formatting template\n",
    "info_box_template = \"\"\"\n",
    "<dl>\n",
    "<dt>Hotel Name</dt><dd>{Hotel Name}</dd>\n",
    "<dt>City</dt><dd>{City}</dd>\n",
    "<dt>Country</dt><dd>{Country}</dd>\n",
    "<dt>Current Weather</dt><dd>{Current Description} and {Max Temp} °F</dd>\n",
    "</dl>\n",
    "\"\"\"\n",
    "\n",
    "# Get the data from each row and add it to the formatting template and store the data in a list\n",
    "hotel_info = [info_box_template.format(**row) for index, row in itinerary_df.iterrows()]\n",
    "\n",
    "# Get the latitude and longitude from each row and store in a new DataFrame.\n",
    "locations = itinerary_df[[\"Lat\", \"Lng\"]]\n",
    "\n",
    "locations"
   ]
  },
  {
   "cell_type": "code",
   "execution_count": 179,
   "metadata": {},
   "outputs": [
    {
     "data": {
      "application/vnd.jupyter.widget-view+json": {
       "model_id": "c804b74ca6b94f838a3a5c5951326cae",
       "version_major": 2,
       "version_minor": 0
      },
      "text/plain": [
       "Figure(layout=FigureLayout(height='420px'))"
      ]
     },
     "metadata": {},
     "output_type": "display_data"
    }
   ],
   "source": [
    "# Add a marker layer for each city to the map.\n",
    "#marker_layer = # YOUR CODE HERE\n",
    "\n",
    "\n",
    "marker_layer = gmaps.marker_layer(locations, info_box_content=hotel_info)\n",
    "\n",
    "# Define a new figure object\n",
    "fig = gmaps.figure(center=(20.0,80.0), zoom_level=4)\n",
    "\n",
    "# Add the layer to the map\n",
    "# YOUR CODE HERE\n",
    "fig.add_layer(marker_layer)\n",
    "\n",
    "# Display the map\n",
    "# YOUR CODE HERE\n",
    "fig"
   ]
  },
  {
   "cell_type": "code",
   "execution_count": null,
   "metadata": {},
   "outputs": [],
   "source": []
  }
 ],
 "metadata": {
  "kernelspec": {
   "display_name": "Python 3 (ipykernel)",
   "language": "python",
   "name": "python3"
  },
  "language_info": {
   "codemirror_mode": {
    "name": "ipython",
    "version": 3
   },
   "file_extension": ".py",
   "mimetype": "text/x-python",
   "name": "python",
   "nbconvert_exporter": "python",
   "pygments_lexer": "ipython3",
   "version": "3.7.13"
  },
  "latex_envs": {
   "LaTeX_envs_menu_present": true,
   "autoclose": false,
   "autocomplete": true,
   "bibliofile": "biblio.bib",
   "cite_by": "apalike",
   "current_citInitial": 1,
   "eqLabelWithNumbers": true,
   "eqNumInitial": 1,
   "hotkeys": {
    "equation": "Ctrl-E",
    "itemize": "Ctrl-I"
   },
   "labels_anchors": false,
   "latex_user_defs": false,
   "report_style_numbering": false,
   "user_envs_cfg": false
  }
 },
 "nbformat": 4,
 "nbformat_minor": 4
}
