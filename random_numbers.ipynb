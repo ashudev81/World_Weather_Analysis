{
 "cells": [
  {
   "cell_type": "code",
   "execution_count": 34,
   "id": "ea7ee15a",
   "metadata": {},
   "outputs": [],
   "source": [
    "#import random module\n",
    "import random \n",
    "import pandas as pd\n",
    "import numpy as np\n",
    "import timeit\n",
    "\n",
    "\n"
   ]
  },
  {
   "cell_type": "code",
   "execution_count": 35,
   "id": "c51cc745",
   "metadata": {},
   "outputs": [
    {
     "data": {
      "text/plain": [
       "89.10854786671783"
      ]
     },
     "execution_count": 35,
     "metadata": {},
     "output_type": "execute_result"
    }
   ],
   "source": [
    "# generate random numbers\n",
    "\n",
    "random_number = random.randint(-90,89) + random.random()\n",
    "random_number"
   ]
  },
  {
   "cell_type": "code",
   "execution_count": 36,
   "id": "5682dc04",
   "metadata": {},
   "outputs": [
    {
     "data": {
      "text/plain": [
       "[37.46071976622887,\n",
       " -11.320785279219825,\n",
       " -14.0713168522813,\n",
       " 24.317670692112422,\n",
       " 42.440914082772466,\n",
       " -22.889171925541167,\n",
       " -38.69273947835813,\n",
       " 4.361649594308181,\n",
       " -5.822543752706998,\n",
       " -21.237236629009367]"
      ]
     },
     "execution_count": 36,
     "metadata": {},
     "output_type": "execute_result"
    }
   ],
   "source": [
    "x = 1\n",
    "latitudes = []\n",
    "\n",
    "while x<11:\n",
    "    ran_lat= random.randint(-90, 89) + random.random()\n",
    "    latitudes.append(ran_lat)\n",
    "    x+=1\n",
    "\n",
    "latitudes\n"
   ]
  },
  {
   "cell_type": "code",
   "execution_count": 37,
   "id": "2eed19e8",
   "metadata": {},
   "outputs": [
    {
     "data": {
      "text/plain": [
       "22"
      ]
     },
     "execution_count": 37,
     "metadata": {},
     "output_type": "execute_result"
    }
   ],
   "source": [
    "random.randrange(-90,90,step=1)"
   ]
  },
  {
   "cell_type": "code",
   "execution_count": 38,
   "id": "ac757064",
   "metadata": {},
   "outputs": [
    {
     "data": {
      "text/plain": [
       "59.52430869892322"
      ]
     },
     "execution_count": 38,
     "metadata": {},
     "output_type": "execute_result"
    }
   ],
   "source": [
    "random.uniform(-90,90)"
   ]
  },
  {
   "cell_type": "code",
   "execution_count": 39,
   "id": "7b48821c",
   "metadata": {},
   "outputs": [
    {
     "data": {
      "text/plain": [
       "array([-26.07695887,  68.33441172,  73.79277549, -35.23627701,\n",
       "       -11.65438974,  54.94400991,  89.41004018,  69.88188081,\n",
       "       -22.19560131,  70.12658743,  19.55662315,  62.55705912,\n",
       "       -87.89634487, -88.75855847, -22.45987152, -72.09770518,\n",
       "        12.39397301, -50.24183869, -86.38374389,  -1.86073534,\n",
       "         7.96951336, -35.79627075, -46.14770949,  60.98026411,\n",
       "       -80.66326772,  33.66742746,  10.92400722,   9.26271751,\n",
       "       -77.23660353,  50.09713415, -60.4147991 , -82.4873565 ,\n",
       "        84.07390617, -31.13600431, -82.05724738,   1.07716691,\n",
       "        -1.10970967, -34.13914003, -60.70092751,  20.11747243,\n",
       "        24.78225005,  63.68636459,  21.61739034,  26.6102686 ,\n",
       "        35.04278143, -85.32001014,  41.17359959, -87.80958596,\n",
       "        70.1079965 , -68.61528948])"
      ]
     },
     "execution_count": 39,
     "metadata": {},
     "output_type": "execute_result"
    }
   ],
   "source": [
    "np.random.uniform(-90.000,90.000,size=50)"
   ]
  },
  {
   "cell_type": "code",
   "execution_count": 40,
   "id": "7c07df36",
   "metadata": {},
   "outputs": [
    {
     "name": "stdout",
     "output_type": "stream",
     "text": [
      "9.76 µs ± 117 ns per loop (mean ± std. dev. of 7 runs, 100000 loops each)\n"
     ]
    }
   ],
   "source": [
    "%timeit np.random.uniform(-90.000,90.000,size=1500)"
   ]
  },
  {
   "cell_type": "code",
   "execution_count": 41,
   "id": "da0a25a1",
   "metadata": {},
   "outputs": [
    {
     "name": "stdout",
     "output_type": "stream",
     "text": [
      "1.26 ms ± 5.93 µs per loop (mean ± std. dev. of 7 runs, 1000 loops each)\n"
     ]
    }
   ],
   "source": [
    "def latitudes(size):\n",
    "    latitudes = []\n",
    "    x = 0\n",
    "    while x < (size):\n",
    "        random_lat = random.randint(-90, 90) + random.random()\n",
    "        latitudes.append(random_lat)\n",
    "        x += 1\n",
    "    return latitudes\n",
    "# Call the function with 1500.\n",
    "%timeit latitudes(1500)"
   ]
  },
  {
   "cell_type": "code",
   "execution_count": null,
   "id": "f04db435",
   "metadata": {},
   "outputs": [],
   "source": []
  }
 ],
 "metadata": {
  "kernelspec": {
   "display_name": "PythonData",
   "language": "python",
   "name": "pythondata"
  },
  "language_info": {
   "codemirror_mode": {
    "name": "ipython",
    "version": 3
   },
   "file_extension": ".py",
   "mimetype": "text/x-python",
   "name": "python",
   "nbconvert_exporter": "python",
   "pygments_lexer": "ipython3",
   "version": "3.7.13"
  }
 },
 "nbformat": 4,
 "nbformat_minor": 5
}
